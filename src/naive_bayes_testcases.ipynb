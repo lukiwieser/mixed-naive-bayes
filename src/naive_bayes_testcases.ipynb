{
 "cells": [
  {
   "cell_type": "markdown",
   "source": [
    "# Testcases for Naive Bayes\n",
    "\n",
    "Testcases to check if our *mixed naive bayes* algorithm works as expected\n"
   ],
   "metadata": {
    "collapsed": false
   }
  },
  {
   "cell_type": "markdown",
   "source": [
    "## Overview\n",
    "\n",
    "* Setup\n",
    "* Amazon Dataset (Categorical, High Dimensional, Multiclass)\n",
    "* Custom Dataset (Numeric & Categorical, Small)\n",
    "* Custom Dataset (Categorical, Small)\n",
    "* Wine Dataset (Numeric, Multiclass)\n",
    "* Cross Validation with Pipeline\n"
   ],
   "metadata": {
    "collapsed": false
   }
  },
  {
   "cell_type": "markdown",
   "source": [
    "## Setup"
   ],
   "metadata": {
    "collapsed": false
   }
  },
  {
   "cell_type": "code",
   "execution_count": 1,
   "outputs": [],
   "source": [
    "import pandas as pd\n",
    "import numpy as np\n",
    "from naive_bayes import MixedNB\n",
    "from sklearn.model_selection import GridSearchCV, KFold, cross_validate\n",
    "from sklearn.pipeline import Pipeline\n",
    "from sklearn.datasets import load_wine"
   ],
   "metadata": {
    "collapsed": false,
    "ExecuteTime": {
     "start_time": "2023-08-16T19:28:02.224562Z",
     "end_time": "2023-08-16T19:28:03.053061Z"
    }
   }
  },
  {
   "cell_type": "code",
   "execution_count": 2,
   "outputs": [],
   "source": [
    "SEED = 42"
   ],
   "metadata": {
    "collapsed": false,
    "ExecuteTime": {
     "start_time": "2023-08-16T19:28:03.052060Z",
     "end_time": "2023-08-16T19:28:03.053061Z"
    }
   }
  },
  {
   "cell_type": "markdown",
   "source": [
    "## Amazon Dataset (Categorical, High Dimensional, Multiclass)"
   ],
   "metadata": {
    "collapsed": false
   }
  },
  {
   "cell_type": "code",
   "execution_count": 3,
   "outputs": [],
   "source": [
    "df_amazon = pd.read_csv(\"../data/amazon_review.csv\")\n",
    "X_amazon = df_amazon.drop(columns=[\"ID\",\"Class\"])\n",
    "y_amazon = df_amazon[\"Class\"]\n",
    "X_amazon_sqrt = np.sqrt(X_amazon)"
   ],
   "metadata": {
    "collapsed": false,
    "ExecuteTime": {
     "start_time": "2023-08-16T19:28:03.052060Z",
     "end_time": "2023-08-16T19:28:03.915237Z"
    }
   }
  },
  {
   "cell_type": "markdown",
   "source": [
    "**Sklearn**"
   ],
   "metadata": {
    "collapsed": false
   }
  },
  {
   "cell_type": "code",
   "execution_count": 4,
   "outputs": [
    {
     "name": "stdout",
     "output_type": "stream",
     "text": [
      "avg. accuracy:    0.6440\n",
      "avg. fit time:    0.1009 s\n",
      "avg. score time:  0.3526 s\n"
     ]
    }
   ],
   "source": [
    "from sklearn.naive_bayes import GaussianNB\n",
    "model = GaussianNB(var_smoothing=0.01)\n",
    "scores = cross_validate(model,X_amazon_sqrt,y_amazon)\n",
    "print(f\"avg. accuracy:   {scores['test_score'].mean(): 2.4f}\")\n",
    "print(f\"avg. fit time:   {scores['fit_time'].mean(): 2.4f} s\")\n",
    "print(f\"avg. score time: {scores['score_time'].mean(): 2.4f} s\")"
   ],
   "metadata": {
    "collapsed": false,
    "ExecuteTime": {
     "start_time": "2023-08-16T19:28:03.917240Z",
     "end_time": "2023-08-16T19:28:06.209377Z"
    }
   }
  },
  {
   "cell_type": "markdown",
   "source": [],
   "metadata": {
    "collapsed": false
   }
  },
  {
   "cell_type": "markdown",
   "source": [
    "**Our Approach**"
   ],
   "metadata": {
    "collapsed": false
   }
  },
  {
   "cell_type": "code",
   "execution_count": 5,
   "outputs": [
    {
     "name": "stdout",
     "output_type": "stream",
     "text": [
      "avg. accuracy:    0.6440\n",
      "avg. fit time:    0.4303 s\n",
      "avg. score time:  2.8464 s\n"
     ]
    }
   ],
   "source": [
    "mask = [False] * X_amazon.shape[1]\n",
    "model = MixedNB(categorical_feature_mask=mask,laplace_smoothing=1,var_smoothing=0.01)\n",
    "scores = cross_validate(model,X_amazon_sqrt,y_amazon)\n",
    "print(f\"avg. accuracy:   {scores['test_score'].mean(): 2.4f}\")\n",
    "print(f\"avg. fit time:   {scores['fit_time'].mean(): 2.4f} s\")\n",
    "print(f\"avg. score time: {scores['score_time'].mean() : 2.4f} s\")"
   ],
   "metadata": {
    "collapsed": false,
    "ExecuteTime": {
     "start_time": "2023-08-16T19:28:06.214376Z",
     "end_time": "2023-08-16T19:28:22.650729Z"
    }
   }
  },
  {
   "cell_type": "markdown",
   "source": [
    "Interesting that sklearn has the same accuracy as our implementation, but is substantially faster"
   ],
   "metadata": {
    "collapsed": false
   }
  },
  {
   "cell_type": "markdown",
   "source": [
    "## Custom Dataset (Numeric & Categorical, Small)"
   ],
   "metadata": {
    "collapsed": false
   }
  },
  {
   "cell_type": "code",
   "execution_count": 6,
   "outputs": [
    {
     "data": {
      "text/plain": "    Outlook  Temp  Humidity  Windy Play\n0     Sunny    35        62  False   No\n1     Sunny    32        73   True   No\n2  Overcast    30        68  False  Yes\n3     Rainy    20        65  False  Yes\n4     Rainy    12        35  False  Yes",
      "text/html": "<div>\n<style scoped>\n    .dataframe tbody tr th:only-of-type {\n        vertical-align: middle;\n    }\n\n    .dataframe tbody tr th {\n        vertical-align: top;\n    }\n\n    .dataframe thead th {\n        text-align: right;\n    }\n</style>\n<table border=\"1\" class=\"dataframe\">\n  <thead>\n    <tr style=\"text-align: right;\">\n      <th></th>\n      <th>Outlook</th>\n      <th>Temp</th>\n      <th>Humidity</th>\n      <th>Windy</th>\n      <th>Play</th>\n    </tr>\n  </thead>\n  <tbody>\n    <tr>\n      <th>0</th>\n      <td>Sunny</td>\n      <td>35</td>\n      <td>62</td>\n      <td>False</td>\n      <td>No</td>\n    </tr>\n    <tr>\n      <th>1</th>\n      <td>Sunny</td>\n      <td>32</td>\n      <td>73</td>\n      <td>True</td>\n      <td>No</td>\n    </tr>\n    <tr>\n      <th>2</th>\n      <td>Overcast</td>\n      <td>30</td>\n      <td>68</td>\n      <td>False</td>\n      <td>Yes</td>\n    </tr>\n    <tr>\n      <th>3</th>\n      <td>Rainy</td>\n      <td>20</td>\n      <td>65</td>\n      <td>False</td>\n      <td>Yes</td>\n    </tr>\n    <tr>\n      <th>4</th>\n      <td>Rainy</td>\n      <td>12</td>\n      <td>35</td>\n      <td>False</td>\n      <td>Yes</td>\n    </tr>\n  </tbody>\n</table>\n</div>"
     },
     "execution_count": 6,
     "metadata": {},
     "output_type": "execute_result"
    }
   ],
   "source": [
    "df_cat_num = pd.read_csv(\"../data/naive-bayes_example_cat+num.csv\",sep=\";\")\n",
    "df_cat_num.head()"
   ],
   "metadata": {
    "collapsed": false,
    "ExecuteTime": {
     "start_time": "2023-08-16T19:28:22.652728Z",
     "end_time": "2023-08-16T19:28:22.667245Z"
    }
   }
  },
  {
   "cell_type": "code",
   "execution_count": 7,
   "outputs": [],
   "source": [
    "X = df_cat_num.drop(columns=[\"Play\"])\n",
    "y = df_cat_num[\"Play\"]"
   ],
   "metadata": {
    "collapsed": false,
    "ExecuteTime": {
     "start_time": "2023-08-16T19:28:22.667245Z",
     "end_time": "2023-08-16T19:28:22.697370Z"
    }
   }
  },
  {
   "cell_type": "code",
   "execution_count": 8,
   "outputs": [],
   "source": [
    "model = MixedNB(categorical_feature_mask=[True,False,False,True],laplace_smoothing=1,var_smoothing=1e-09)\n",
    "model.fit(X,y)"
   ],
   "metadata": {
    "collapsed": false,
    "ExecuteTime": {
     "start_time": "2023-08-16T19:28:22.688326Z",
     "end_time": "2023-08-16T19:28:22.763993Z"
    }
   }
  },
  {
   "cell_type": "code",
   "execution_count": 9,
   "outputs": [
    {
     "data": {
      "text/plain": "0    Yes\n1     No\ndtype: object"
     },
     "execution_count": 9,
     "metadata": {},
     "output_type": "execute_result"
    }
   ],
   "source": [
    "X_test = pd.DataFrame([\n",
    "    [\"Overcast\",15,50, False],\n",
    "    [\"Rainy\", 19, 58, True]\n",
    "])\n",
    "y_pred = model.predict(X_test)\n",
    "y_pred"
   ],
   "metadata": {
    "collapsed": false,
    "ExecuteTime": {
     "start_time": "2023-08-16T19:28:22.716396Z",
     "end_time": "2023-08-16T19:28:22.785544Z"
    }
   }
  },
  {
   "cell_type": "markdown",
   "source": [
    "## Custom Dataset (Categorical, Small)"
   ],
   "metadata": {
    "collapsed": false
   }
  },
  {
   "cell_type": "code",
   "execution_count": 10,
   "outputs": [
    {
     "data": {
      "text/plain": "    Outlook  Temp Humidity  Windy Play\n0     Sunny   Hot     High  False   No\n1     Sunny   Hot     High   True   No\n2  Overcast   Hot     High  False  Yes\n3     Rainy  Mild     High  False  Yes\n4     Rainy  Cool   Normal  False  Yes",
      "text/html": "<div>\n<style scoped>\n    .dataframe tbody tr th:only-of-type {\n        vertical-align: middle;\n    }\n\n    .dataframe tbody tr th {\n        vertical-align: top;\n    }\n\n    .dataframe thead th {\n        text-align: right;\n    }\n</style>\n<table border=\"1\" class=\"dataframe\">\n  <thead>\n    <tr style=\"text-align: right;\">\n      <th></th>\n      <th>Outlook</th>\n      <th>Temp</th>\n      <th>Humidity</th>\n      <th>Windy</th>\n      <th>Play</th>\n    </tr>\n  </thead>\n  <tbody>\n    <tr>\n      <th>0</th>\n      <td>Sunny</td>\n      <td>Hot</td>\n      <td>High</td>\n      <td>False</td>\n      <td>No</td>\n    </tr>\n    <tr>\n      <th>1</th>\n      <td>Sunny</td>\n      <td>Hot</td>\n      <td>High</td>\n      <td>True</td>\n      <td>No</td>\n    </tr>\n    <tr>\n      <th>2</th>\n      <td>Overcast</td>\n      <td>Hot</td>\n      <td>High</td>\n      <td>False</td>\n      <td>Yes</td>\n    </tr>\n    <tr>\n      <th>3</th>\n      <td>Rainy</td>\n      <td>Mild</td>\n      <td>High</td>\n      <td>False</td>\n      <td>Yes</td>\n    </tr>\n    <tr>\n      <th>4</th>\n      <td>Rainy</td>\n      <td>Cool</td>\n      <td>Normal</td>\n      <td>False</td>\n      <td>Yes</td>\n    </tr>\n  </tbody>\n</table>\n</div>"
     },
     "execution_count": 10,
     "metadata": {},
     "output_type": "execute_result"
    }
   ],
   "source": [
    "df_cat = pd.read_csv(\"../data/naive-bayes_example_cat.csv\",sep=\";\")\n",
    "df_cat.head()"
   ],
   "metadata": {
    "collapsed": false,
    "ExecuteTime": {
     "start_time": "2023-08-16T19:28:22.731433Z",
     "end_time": "2023-08-16T19:28:22.786544Z"
    }
   }
  },
  {
   "cell_type": "code",
   "execution_count": 11,
   "outputs": [],
   "source": [
    "X = df_cat.drop(columns=[\"Play\"])\n",
    "y = df_cat[\"Play\"]"
   ],
   "metadata": {
    "collapsed": false,
    "ExecuteTime": {
     "start_time": "2023-08-16T19:28:22.748459Z",
     "end_time": "2023-08-16T19:28:22.786544Z"
    }
   }
  },
  {
   "cell_type": "code",
   "execution_count": 12,
   "outputs": [],
   "source": [
    "model = MixedNB(categorical_feature_mask=[True,True,True,True],laplace_smoothing=1,var_smoothing=1)\n",
    "model.fit(X,y)"
   ],
   "metadata": {
    "collapsed": false,
    "ExecuteTime": {
     "start_time": "2023-08-16T19:28:22.762993Z",
     "end_time": "2023-08-16T19:28:22.823621Z"
    }
   }
  },
  {
   "cell_type": "code",
   "execution_count": 13,
   "outputs": [
    {
     "data": {
      "text/plain": "0    Yes\n1    Yes\ndtype: object"
     },
     "execution_count": 13,
     "metadata": {},
     "output_type": "execute_result"
    }
   ],
   "source": [
    "X_test = pd.DataFrame([\n",
    "    [\"Overcast\",\"Mild\",\"Normal\",False],\n",
    "    [\"Rainy\", \"Hot\", \"High\", False]\n",
    "])\n",
    "y_pred = model.predict(X_test)\n",
    "y_pred"
   ],
   "metadata": {
    "collapsed": false,
    "ExecuteTime": {
     "start_time": "2023-08-16T19:28:22.795065Z",
     "end_time": "2023-08-16T19:28:22.846663Z"
    }
   }
  },
  {
   "cell_type": "markdown",
   "source": [
    "## Wine Dataset (Numeric, Multiclass)"
   ],
   "metadata": {
    "collapsed": false
   }
  },
  {
   "cell_type": "code",
   "execution_count": 14,
   "outputs": [],
   "source": [
    "data_wine = load_wine()\n",
    "X = data_wine.data\n",
    "y = data_wine.target"
   ],
   "metadata": {
    "collapsed": false,
    "ExecuteTime": {
     "start_time": "2023-08-16T19:28:22.812105Z",
     "end_time": "2023-08-16T19:28:22.846663Z"
    }
   }
  },
  {
   "cell_type": "code",
   "execution_count": 15,
   "outputs": [
    {
     "name": "stdout",
     "output_type": "stream",
     "text": [
      "avg. accuracy:    0.6463\n",
      "avg. fit time:    0.0043 s\n",
      "avg. score time:  0.0164 s\n"
     ]
    }
   ],
   "source": [
    "mask = [False] * X.shape[1]\n",
    "model = MixedNB(categorical_feature_mask=mask,laplace_smoothing=1,var_smoothing=1)\n",
    "scores = cross_validate(model, X, y)\n",
    "print(f\"avg. accuracy:   {scores['test_score'].mean(): 2.4f}\")\n",
    "print(f\"avg. fit time:   {scores['fit_time'].mean(): 2.4f} s\")\n",
    "print(f\"avg. score time: {scores['score_time'].mean(): 2.4f} s\")"
   ],
   "metadata": {
    "collapsed": false,
    "ExecuteTime": {
     "start_time": "2023-08-16T19:28:22.826622Z",
     "end_time": "2023-08-16T19:28:22.943808Z"
    }
   }
  },
  {
   "cell_type": "markdown",
   "source": [
    "## Cross Validation with Pipeline"
   ],
   "metadata": {
    "collapsed": false
   }
  },
  {
   "cell_type": "code",
   "execution_count": 16,
   "outputs": [
    {
     "data": {
      "text/plain": "    Outlook  Temp  Humidity  Windy Play\n0     Sunny    35        62  False   No\n1     Sunny    32        73   True   No\n2  Overcast    30        68  False  Yes\n3     Rainy    20        65  False  Yes\n4     Rainy    12        35  False  Yes",
      "text/html": "<div>\n<style scoped>\n    .dataframe tbody tr th:only-of-type {\n        vertical-align: middle;\n    }\n\n    .dataframe tbody tr th {\n        vertical-align: top;\n    }\n\n    .dataframe thead th {\n        text-align: right;\n    }\n</style>\n<table border=\"1\" class=\"dataframe\">\n  <thead>\n    <tr style=\"text-align: right;\">\n      <th></th>\n      <th>Outlook</th>\n      <th>Temp</th>\n      <th>Humidity</th>\n      <th>Windy</th>\n      <th>Play</th>\n    </tr>\n  </thead>\n  <tbody>\n    <tr>\n      <th>0</th>\n      <td>Sunny</td>\n      <td>35</td>\n      <td>62</td>\n      <td>False</td>\n      <td>No</td>\n    </tr>\n    <tr>\n      <th>1</th>\n      <td>Sunny</td>\n      <td>32</td>\n      <td>73</td>\n      <td>True</td>\n      <td>No</td>\n    </tr>\n    <tr>\n      <th>2</th>\n      <td>Overcast</td>\n      <td>30</td>\n      <td>68</td>\n      <td>False</td>\n      <td>Yes</td>\n    </tr>\n    <tr>\n      <th>3</th>\n      <td>Rainy</td>\n      <td>20</td>\n      <td>65</td>\n      <td>False</td>\n      <td>Yes</td>\n    </tr>\n    <tr>\n      <th>4</th>\n      <td>Rainy</td>\n      <td>12</td>\n      <td>35</td>\n      <td>False</td>\n      <td>Yes</td>\n    </tr>\n  </tbody>\n</table>\n</div>"
     },
     "execution_count": 16,
     "metadata": {},
     "output_type": "execute_result"
    }
   ],
   "source": [
    "df_cat_num = pd.read_csv(\"../data/naive-bayes_example_cat+num.csv\",sep=\";\")\n",
    "df_cat_num.head()"
   ],
   "metadata": {
    "collapsed": false,
    "ExecuteTime": {
     "start_time": "2023-08-16T19:28:22.934291Z",
     "end_time": "2023-08-16T19:28:22.949321Z"
    }
   }
  },
  {
   "cell_type": "code",
   "execution_count": 17,
   "outputs": [],
   "source": [
    "X = df_cat_num.drop(columns=[\"Play\"])\n",
    "y = df_cat_num[\"Play\"]"
   ],
   "metadata": {
    "collapsed": false,
    "ExecuteTime": {
     "start_time": "2023-08-16T19:28:22.950327Z",
     "end_time": "2023-08-16T19:28:22.995041Z"
    }
   }
  },
  {
   "cell_type": "code",
   "execution_count": 18,
   "outputs": [
    {
     "data": {
      "text/plain": "GridSearchCV(cv=KFold(n_splits=3, random_state=None, shuffle=False),\n             estimator=Pipeline(steps=[('m',\n                                        MixedNB(categorical_feature_mask=[True,\n                                                                          False,\n                                                                          False,\n                                                                          True],\n                                                var_smoothing=1))]),\n             param_grid={'m__laplace_smoothing': [0.5, 1, 1.5],\n                         'm__var_smoothing': [1e-08, 1e-05, 0.01]})",
      "text/html": "<style>#sk-container-id-1 {color: black;}#sk-container-id-1 pre{padding: 0;}#sk-container-id-1 div.sk-toggleable {background-color: white;}#sk-container-id-1 label.sk-toggleable__label {cursor: pointer;display: block;width: 100%;margin-bottom: 0;padding: 0.3em;box-sizing: border-box;text-align: center;}#sk-container-id-1 label.sk-toggleable__label-arrow:before {content: \"▸\";float: left;margin-right: 0.25em;color: #696969;}#sk-container-id-1 label.sk-toggleable__label-arrow:hover:before {color: black;}#sk-container-id-1 div.sk-estimator:hover label.sk-toggleable__label-arrow:before {color: black;}#sk-container-id-1 div.sk-toggleable__content {max-height: 0;max-width: 0;overflow: hidden;text-align: left;background-color: #f0f8ff;}#sk-container-id-1 div.sk-toggleable__content pre {margin: 0.2em;color: black;border-radius: 0.25em;background-color: #f0f8ff;}#sk-container-id-1 input.sk-toggleable__control:checked~div.sk-toggleable__content {max-height: 200px;max-width: 100%;overflow: auto;}#sk-container-id-1 input.sk-toggleable__control:checked~label.sk-toggleable__label-arrow:before {content: \"▾\";}#sk-container-id-1 div.sk-estimator input.sk-toggleable__control:checked~label.sk-toggleable__label {background-color: #d4ebff;}#sk-container-id-1 div.sk-label input.sk-toggleable__control:checked~label.sk-toggleable__label {background-color: #d4ebff;}#sk-container-id-1 input.sk-hidden--visually {border: 0;clip: rect(1px 1px 1px 1px);clip: rect(1px, 1px, 1px, 1px);height: 1px;margin: -1px;overflow: hidden;padding: 0;position: absolute;width: 1px;}#sk-container-id-1 div.sk-estimator {font-family: monospace;background-color: #f0f8ff;border: 1px dotted black;border-radius: 0.25em;box-sizing: border-box;margin-bottom: 0.5em;}#sk-container-id-1 div.sk-estimator:hover {background-color: #d4ebff;}#sk-container-id-1 div.sk-parallel-item::after {content: \"\";width: 100%;border-bottom: 1px solid gray;flex-grow: 1;}#sk-container-id-1 div.sk-label:hover label.sk-toggleable__label {background-color: #d4ebff;}#sk-container-id-1 div.sk-serial::before {content: \"\";position: absolute;border-left: 1px solid gray;box-sizing: border-box;top: 0;bottom: 0;left: 50%;z-index: 0;}#sk-container-id-1 div.sk-serial {display: flex;flex-direction: column;align-items: center;background-color: white;padding-right: 0.2em;padding-left: 0.2em;position: relative;}#sk-container-id-1 div.sk-item {position: relative;z-index: 1;}#sk-container-id-1 div.sk-parallel {display: flex;align-items: stretch;justify-content: center;background-color: white;position: relative;}#sk-container-id-1 div.sk-item::before, #sk-container-id-1 div.sk-parallel-item::before {content: \"\";position: absolute;border-left: 1px solid gray;box-sizing: border-box;top: 0;bottom: 0;left: 50%;z-index: -1;}#sk-container-id-1 div.sk-parallel-item {display: flex;flex-direction: column;z-index: 1;position: relative;background-color: white;}#sk-container-id-1 div.sk-parallel-item:first-child::after {align-self: flex-end;width: 50%;}#sk-container-id-1 div.sk-parallel-item:last-child::after {align-self: flex-start;width: 50%;}#sk-container-id-1 div.sk-parallel-item:only-child::after {width: 0;}#sk-container-id-1 div.sk-dashed-wrapped {border: 1px dashed gray;margin: 0 0.4em 0.5em 0.4em;box-sizing: border-box;padding-bottom: 0.4em;background-color: white;}#sk-container-id-1 div.sk-label label {font-family: monospace;font-weight: bold;display: inline-block;line-height: 1.2em;}#sk-container-id-1 div.sk-label-container {text-align: center;}#sk-container-id-1 div.sk-container {/* jupyter's `normalize.less` sets `[hidden] { display: none; }` but bootstrap.min.css set `[hidden] { display: none !important; }` so we also need the `!important` here to be able to override the default hidden behavior on the sphinx rendered scikit-learn.org. See: https://github.com/scikit-learn/scikit-learn/issues/21755 */display: inline-block !important;position: relative;}#sk-container-id-1 div.sk-text-repr-fallback {display: none;}</style><div id=\"sk-container-id-1\" class=\"sk-top-container\"><div class=\"sk-text-repr-fallback\"><pre>GridSearchCV(cv=KFold(n_splits=3, random_state=None, shuffle=False),\n             estimator=Pipeline(steps=[(&#x27;m&#x27;,\n                                        MixedNB(categorical_feature_mask=[True,\n                                                                          False,\n                                                                          False,\n                                                                          True],\n                                                var_smoothing=1))]),\n             param_grid={&#x27;m__laplace_smoothing&#x27;: [0.5, 1, 1.5],\n                         &#x27;m__var_smoothing&#x27;: [1e-08, 1e-05, 0.01]})</pre><b>In a Jupyter environment, please rerun this cell to show the HTML representation or trust the notebook. <br />On GitHub, the HTML representation is unable to render, please try loading this page with nbviewer.org.</b></div><div class=\"sk-container\" hidden><div class=\"sk-item sk-dashed-wrapped\"><div class=\"sk-label-container\"><div class=\"sk-label sk-toggleable\"><input class=\"sk-toggleable__control sk-hidden--visually\" id=\"sk-estimator-id-1\" type=\"checkbox\" ><label for=\"sk-estimator-id-1\" class=\"sk-toggleable__label sk-toggleable__label-arrow\">GridSearchCV</label><div class=\"sk-toggleable__content\"><pre>GridSearchCV(cv=KFold(n_splits=3, random_state=None, shuffle=False),\n             estimator=Pipeline(steps=[(&#x27;m&#x27;,\n                                        MixedNB(categorical_feature_mask=[True,\n                                                                          False,\n                                                                          False,\n                                                                          True],\n                                                var_smoothing=1))]),\n             param_grid={&#x27;m__laplace_smoothing&#x27;: [0.5, 1, 1.5],\n                         &#x27;m__var_smoothing&#x27;: [1e-08, 1e-05, 0.01]})</pre></div></div></div><div class=\"sk-parallel\"><div class=\"sk-parallel-item\"><div class=\"sk-item\"><div class=\"sk-label-container\"><div class=\"sk-label sk-toggleable\"><input class=\"sk-toggleable__control sk-hidden--visually\" id=\"sk-estimator-id-2\" type=\"checkbox\" ><label for=\"sk-estimator-id-2\" class=\"sk-toggleable__label sk-toggleable__label-arrow\">estimator: Pipeline</label><div class=\"sk-toggleable__content\"><pre>Pipeline(steps=[(&#x27;m&#x27;,\n                 MixedNB(categorical_feature_mask=[True, False, False, True],\n                         var_smoothing=1))])</pre></div></div></div><div class=\"sk-serial\"><div class=\"sk-item\"><div class=\"sk-serial\"><div class=\"sk-item\"><div class=\"sk-estimator sk-toggleable\"><input class=\"sk-toggleable__control sk-hidden--visually\" id=\"sk-estimator-id-3\" type=\"checkbox\" ><label for=\"sk-estimator-id-3\" class=\"sk-toggleable__label sk-toggleable__label-arrow\">MixedNB</label><div class=\"sk-toggleable__content\"><pre>MixedNB(categorical_feature_mask=[True, False, False, True], var_smoothing=1)</pre></div></div></div></div></div></div></div></div></div></div></div></div>"
     },
     "execution_count": 18,
     "metadata": {},
     "output_type": "execute_result"
    }
   ],
   "source": [
    "pipe = Pipeline([\n",
    "    ('m', MixedNB(categorical_feature_mask=[True,False,False,True],var_smoothing=1))\n",
    "])\n",
    "parameters = {\n",
    "    \"m__laplace_smoothing\": [0.5, 1, 1.5],\n",
    "    \"m__var_smoothing\": [10e-9, 10e-6, 10e-3]\n",
    "}\n",
    "kf = KFold(n_splits=3)\n",
    "grid = GridSearchCV(pipe, parameters,cv=kf)\n",
    "grid.fit(X, y)"
   ],
   "metadata": {
    "collapsed": false,
    "ExecuteTime": {
     "start_time": "2023-08-16T19:28:22.986529Z",
     "end_time": "2023-08-16T19:28:23.449625Z"
    }
   }
  },
  {
   "cell_type": "code",
   "execution_count": 19,
   "outputs": [
    {
     "data": {
      "text/plain": "(0.7166666666666667, {'m__laplace_smoothing': 0.5, 'm__var_smoothing': 1e-08})"
     },
     "execution_count": 19,
     "metadata": {},
     "output_type": "execute_result"
    }
   ],
   "source": [
    "grid.best_score_, grid.best_params_"
   ],
   "metadata": {
    "collapsed": false,
    "ExecuteTime": {
     "start_time": "2023-08-16T19:28:23.438097Z",
     "end_time": "2023-08-16T19:28:23.451626Z"
    }
   }
  },
  {
   "cell_type": "code",
   "execution_count": 20,
   "outputs": [
    {
     "data": {
      "text/plain": "{'mean_fit_time': array([0.01324368, 0.01218168, 0.01308354, 0.01118882, 0.01019375,\n        0.01051799, 0.01035921, 0.01051776, 0.01453479]),\n 'std_fit_time': array([1.77418177e-03, 1.69584060e-03, 2.94762088e-03, 4.74816744e-04,\n        4.78720535e-04, 2.97360213e-07, 2.28551813e-04, 7.37000982e-07,\n        6.40081922e-03]),\n 'mean_score_time': array([0.00400853, 0.00467881, 0.00350269, 0.00350285, 0.0035096 ,\n        0.00417336, 0.00350269, 0.00334231, 0.00450269]),\n 'std_score_time': array([0.00121864, 0.00062723, 0.00040414, 0.00040853, 0.00040388,\n        0.00024473, 0.00040862, 0.00062193, 0.00040843]),\n 'param_m__laplace_smoothing': masked_array(data=[0.5, 0.5, 0.5, 1, 1, 1, 1.5, 1.5, 1.5],\n              mask=[False, False, False, False, False, False, False, False,\n                    False],\n        fill_value='?',\n             dtype=object),\n 'param_m__var_smoothing': masked_array(data=[1e-08, 1e-05, 0.01, 1e-08, 1e-05, 0.01, 1e-08, 1e-05,\n                    0.01],\n              mask=[False, False, False, False, False, False, False, False,\n                    False],\n        fill_value='?',\n             dtype=object),\n 'params': [{'m__laplace_smoothing': 0.5, 'm__var_smoothing': 1e-08},\n  {'m__laplace_smoothing': 0.5, 'm__var_smoothing': 1e-05},\n  {'m__laplace_smoothing': 0.5, 'm__var_smoothing': 0.01},\n  {'m__laplace_smoothing': 1, 'm__var_smoothing': 1e-08},\n  {'m__laplace_smoothing': 1, 'm__var_smoothing': 1e-05},\n  {'m__laplace_smoothing': 1, 'm__var_smoothing': 0.01},\n  {'m__laplace_smoothing': 1.5, 'm__var_smoothing': 1e-08},\n  {'m__laplace_smoothing': 1.5, 'm__var_smoothing': 1e-05},\n  {'m__laplace_smoothing': 1.5, 'm__var_smoothing': 0.01}],\n 'split0_test_score': array([0.6, 0.6, 0.6, 0.6, 0.6, 0.6, 0.6, 0.6, 0.6]),\n 'split1_test_score': array([0.8, 0.8, 0.8, 0.8, 0.8, 0.8, 0.8, 0.8, 0.8]),\n 'split2_test_score': array([0.75, 0.75, 0.75, 0.75, 0.75, 0.75, 0.75, 0.75, 0.75]),\n 'mean_test_score': array([0.71666667, 0.71666667, 0.71666667, 0.71666667, 0.71666667,\n        0.71666667, 0.71666667, 0.71666667, 0.71666667]),\n 'std_test_score': array([0.08498366, 0.08498366, 0.08498366, 0.08498366, 0.08498366,\n        0.08498366, 0.08498366, 0.08498366, 0.08498366]),\n 'rank_test_score': array([1, 1, 1, 1, 1, 1, 1, 1, 1])}"
     },
     "execution_count": 20,
     "metadata": {},
     "output_type": "execute_result"
    }
   ],
   "source": [
    "grid.cv_results_"
   ],
   "metadata": {
    "collapsed": false,
    "ExecuteTime": {
     "start_time": "2023-08-16T19:28:23.455624Z",
     "end_time": "2023-08-16T19:28:23.467144Z"
    }
   }
  }
 ],
 "metadata": {
  "kernelspec": {
   "display_name": "Python 3",
   "language": "python",
   "name": "python3"
  },
  "language_info": {
   "codemirror_mode": {
    "name": "ipython",
    "version": 2
   },
   "file_extension": ".py",
   "mimetype": "text/x-python",
   "name": "python",
   "nbconvert_exporter": "python",
   "pygments_lexer": "ipython2",
   "version": "2.7.6"
  }
 },
 "nbformat": 4,
 "nbformat_minor": 0
}
